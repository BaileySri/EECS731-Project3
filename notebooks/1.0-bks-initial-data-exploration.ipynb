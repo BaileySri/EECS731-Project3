{
 "cells": [
  {
   "cell_type": "markdown",
   "metadata": {},
   "source": [
    "# Exploratory Data Analysis with K-Means Clustering"
   ]
  },
  {
   "cell_type": "code",
   "execution_count": 1,
   "metadata": {},
   "outputs": [],
   "source": [
    "#Import Libraries\n",
    "import numpy as np\n",
    "import pandas as pd\n",
    "import matplotlib.pylab as plt\n",
    "import seaborn as sb"
   ]
  },
  {
   "cell_type": "markdown",
   "metadata": {},
   "source": [
    "| File              | Field 1      | Field 2       | Field 3            | Field 4        |\n",
    "|-------------------|--------------|---------------|--------------------|----------------|\n",
    "| ratings.csv       | userId(int)  | movieId(int)  | rating(0.5-5.0)    | timestamp(UTC) |\n",
    "| tags.csv          | userId(int)  | movieId(int)  | tag(string)        | timestamp(UTC) |\n",
    "| movies.csv        | movieId(int) | title(string) | genres(string)     | -              |\n",
    "| genome-scores.csv | movieId(int) | tagId(int)    | relevance(0.0-1.0) |                |\n",
    "| genome-tags.csv   | tagId(int)   | tag(string)   |                    |                |"
   ]
  },
  {
   "cell_type": "markdown",
   "metadata": {},
   "source": [
    " * **Genres(string)** gets to pick from the below:\n",
    "   * Action\n",
    "   * Adventure\n",
    "   * Animation\n",
    "   * Children's\n",
    "   * Comedy\n",
    "   * Crime\n",
    "   * Documentary\n",
    "   * Drama\n",
    "   * Fantasy\n",
    "   * Film-Noir\n",
    "   * Horror\n",
    "   * Musical\n",
    "   * Mystery\n",
    "   * Romance\n",
    "   * Sci-Fi\n",
    "   * Thriller\n",
    "   * War\n",
    "   * Western\n",
    "   * (no genres listed)"
   ]
  },
  {
   "cell_type": "markdown",
   "metadata": {},
   "source": [
    "## Data Cleaning Approaches\n",
    "* **Remove Single Ratings**\n",
    "  * Users with a single rating provide no meaningful data to correlate with. The most information we could glean from these users is if a movie was good or not which would lead to a broad recommendation of \"Watch this movie because it got 5 stars from this user who has never reviewed another.\"\n",
    "  \n",
    "* **Remove Repetitive Reviewers**\n",
    "  * Multiple reviews from one user is generally a useful outlet to relate one movie to another, however if an individual is rating every movie 3 stars then they provide no meaningful comparison between movies. A user also always rating every movie a single rating could indicate a user who has no real grasp of reviewing media and has defaulted to a single value which provides little meaningful information."
   ]
  },
  {
   "cell_type": "code",
   "execution_count": null,
   "metadata": {},
   "outputs": [],
   "source": []
  },
  {
   "cell_type": "markdown",
   "metadata": {},
   "source": [
    "## Possible Approaches"
   ]
  },
  {
   "cell_type": "markdown",
   "metadata": {},
   "source": [
    " * **Related Comments**\n",
    "   * If two users rated a movie well, possible recommendations for each user would be one that the other had rated well\n",
    " * **Related Genres and Tags**\n",
    "   * Genres are useful guiding tools to recommending movies. Genres are also broad. If a user likes an action movie, recommend another action movie but primarily consider the tags of the two"
   ]
  },
  {
   "cell_type": "code",
   "execution_count": null,
   "metadata": {},
   "outputs": [],
   "source": []
  }
 ],
 "metadata": {
  "kernelspec": {
   "display_name": "Python 3",
   "language": "python",
   "name": "python3"
  },
  "language_info": {
   "codemirror_mode": {
    "name": "ipython",
    "version": 3
   },
   "file_extension": ".py",
   "mimetype": "text/x-python",
   "name": "python",
   "nbconvert_exporter": "python",
   "pygments_lexer": "ipython3",
   "version": "3.8.5"
  }
 },
 "nbformat": 4,
 "nbformat_minor": 4
}
