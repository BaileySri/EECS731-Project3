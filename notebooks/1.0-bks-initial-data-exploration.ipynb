{
 "cells": [
  {
   "cell_type": "markdown",
   "metadata": {},
   "source": [
    "# Exploratory Data Analysis with K-Means Clustering"
   ]
  },
  {
   "cell_type": "code",
   "execution_count": 1,
   "metadata": {},
   "outputs": [],
   "source": [
    "#Import Libraries\n",
    "import numpy as np\n",
    "import pandas as pd\n",
    "import matplotlib.pylab as plt\n",
    "import seaborn as sb"
   ]
  },
  {
   "cell_type": "markdown",
   "metadata": {},
   "source": [
    "| File              | Field 1      | Field 2       | Field 3            | Field 4        |\n",
    "|-------------------|--------------|---------------|--------------------|----------------|\n",
    "| ratings.csv       | userId(int)  | movieId(int)  | rating(0.5-5.0)    | timestamp(UTC) |\n",
    "| tags.csv          | userId(int)  | movieId(int)  | tag(string)        | timestamp(UTC) |\n",
    "| movies.csv        | movieId(int) | title(string) | genres(string)     | -              |\n",
    "| genome-scores.csv | movieId(int) | tagId(int)    | relevance(0.0-1.0) |                |\n",
    "| genome-tags.csv   | tagId(int)   | tag(string)   |                    |                |"
   ]
  },
  {
   "cell_type": "markdown",
   "metadata": {},
   "source": [
    " * **Genres(string)** gets to pick from the below:\n",
    "   * Action\n",
    "   * Adventure\n",
    "   * Animation\n",
    "   * Children's\n",
    "   * Comedy\n",
    "   * Crime\n",
    "   * Documentary\n",
    "   * Drama\n",
    "   * Fantasy\n",
    "   * Film-Noir\n",
    "   * Horror\n",
    "   * Musical\n",
    "   * Mystery\n",
    "   * Romance\n",
    "   * Sci-Fi\n",
    "   * Thriller\n",
    "   * War\n",
    "   * Western\n",
    "   * (no genres listed)"
   ]
  },
  {
   "cell_type": "markdown",
   "metadata": {},
   "source": [
    "## Possible Approaches"
   ]
  },
  {
   "cell_type": "markdown",
   "metadata": {},
   "source": [
    " I want to preface these models by mentioning that clustering on the number of genres wouldn't be feasible as the cluster sizes would be excessively large. One of the possible models below will utilize this however as data processing before clustering.\n",
    " * **Lazy Tag Model**\n",
    "   * Remove all tags with relevancy less than 0.9\n",
    "   * Make K-Means clusters with k equal to the number of unique tags left\n",
    " * **Lazy Genre-Tag Model**\n",
    "   * Cluster all of the movies on the number of genres\n",
    "   * Further input each of these clusters as individual datasets to be further clustered by tags\n",
    " * **Branch by Reviewer Model**\n",
    "   * If a reviewer enjoyed 2 movies, then one movie should be considered a recommendation for the other.\n"
   ]
  },
  {
   "cell_type": "markdown",
   "metadata": {},
   "source": [
    "### First Attempts at processing data for Lazy Tag Model"
   ]
  },
  {
   "cell_type": "code",
   "execution_count": 8,
   "metadata": {},
   "outputs": [
    {
     "data": {
      "text/plain": [
       "1128"
      ]
     },
     "execution_count": 8,
     "metadata": {},
     "output_type": "execute_result"
    }
   ],
   "source": [
    "df = pd.read_csv('../data/external/ml-latest/ml-latest/genome-scores.csv')\n",
    "df.tagId.unique().size"
   ]
  },
  {
   "cell_type": "code",
   "execution_count": 9,
   "metadata": {},
   "outputs": [
    {
     "data": {
      "text/plain": [
       "13176"
      ]
     },
     "execution_count": 9,
     "metadata": {},
     "output_type": "execute_result"
    }
   ],
   "source": [
    "df.movieId.unique().size"
   ]
  },
  {
   "cell_type": "code",
   "execution_count": 10,
   "metadata": {},
   "outputs": [
    {
     "data": {
      "text/plain": [
       "1054"
      ]
     },
     "execution_count": 10,
     "metadata": {},
     "output_type": "execute_result"
    }
   ],
   "source": [
    "df_trimmed = df[df.relevance >= 0.9]\n",
    "df_trimmed.tagId.unique().size"
   ]
  },
  {
   "cell_type": "code",
   "execution_count": 11,
   "metadata": {},
   "outputs": [
    {
     "data": {
      "text/plain": [
       "11969"
      ]
     },
     "execution_count": 11,
     "metadata": {},
     "output_type": "execute_result"
    }
   ],
   "source": [
    "df_trimmed.movieId.unique().size"
   ]
  },
  {
   "cell_type": "markdown",
   "metadata": {},
   "source": [
    "From the above calculations, reducing the relevant genome tags to only those with a score of >= 0.9 results in losing approximately 1207 movies, making 1207 tagless movies. Furthermore we lost 74 tags. At this point however it is worth noting that within the **genome-scores.csv** file the number of unique Ids is 13176. Below we will read the **ratings.csv** to see if this reflects the actual number of unique movies in this dataset."
   ]
  },
  {
   "cell_type": "code",
   "execution_count": 13,
   "metadata": {},
   "outputs": [],
   "source": [
    "df_ratings = pd.read_csv('../data/external/ml-latest/ml-latest/ratings.csv')\n",
    "\n",
    "df_ratings.movieId.unique().size"
   ]
  },
  {
   "cell_type": "markdown",
   "metadata": {},
   "source": [
    "From the above information is can be determined that the **genome-scores.csv** only contains information pertaining to 13176 movies whereas the **ratings.csv** file contains information about 53889. At this point I would consider the tags model only useful for a small subset of the movies present within the dataset (11969 / 53889)."
   ]
  },
  {
   "cell_type": "markdown",
   "metadata": {},
   "source": [
    "## Final Thoughts on the Lazy Tag Model\n",
    "The Lazy Tag Model was my favorite initial idea as it provided the least initial consideration for details as the connection to other movies would be provided by other reviewers who had tagged the movies. Unfortunately from the dataset it can be seen that with only information of less than 22.210% of the movies with relevancy scores of tags higher than 0.9 the model would more often than not come up with either useful recommendations or recommend the cluster containing all tagless movies."
   ]
  }
 ],
 "metadata": {
  "kernelspec": {
   "display_name": "Python 3",
   "language": "python",
   "name": "python3"
  },
  "language_info": {
   "codemirror_mode": {
    "name": "ipython",
    "version": 3
   },
   "file_extension": ".py",
   "mimetype": "text/x-python",
   "name": "python",
   "nbconvert_exporter": "python",
   "pygments_lexer": "ipython3",
   "version": "3.8.5"
  }
 },
 "nbformat": 4,
 "nbformat_minor": 4
}
